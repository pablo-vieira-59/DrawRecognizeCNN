{
  "nbformat": 4,
  "nbformat_minor": 0,
  "metadata": {
    "colab": {
      "name": "Wilcoxon_Test.ipynb",
      "provenance": []
    },
    "kernelspec": {
      "name": "python3",
      "display_name": "Python 3"
    }
  },
  "cells": [
    {
      "cell_type": "code",
      "metadata": {
        "id": "Yf0bO7cJNthD",
        "colab_type": "code",
        "colab": {
          "base_uri": "https://localhost:8080/",
          "height": 34
        },
        "outputId": "77d0ec96-1ad9-4670-b361-9ccb43e8ce09"
      },
      "source": [
        "from scipy.stats import wilcoxon\n",
        "\n",
        "acuracia = [0.9672,0.9676,0.9673,0.9678,0.967,0.9674,0.9673,0.9671,0.9675,0.9672,0.968,0.9677,0.9675,0.967,0.9675,0.968,0.968,0.967,0.9672,0.9674,0.9674,0.968,0.9671,0.9672,0.9678,0.9677,0.9674,0.9676,0.9674,0.9673]\n",
        "\n",
        "w, p = wilcoxon(acuracia)\n",
        "\n",
        "w, p"
      ],
      "execution_count": 4,
      "outputs": [
        {
          "output_type": "execute_result",
          "data": {
            "text/plain": [
              "(0.0, 1.6741785256701665e-06)"
            ]
          },
          "metadata": {
            "tags": []
          },
          "execution_count": 4
        }
      ]
    },
    {
      "cell_type": "code",
      "metadata": {
        "id": "cgWH0kKbPtEu",
        "colab_type": "code",
        "colab": {
          "base_uri": "https://localhost:8080/",
          "height": 34
        },
        "outputId": "3a7e6e32-804f-4575-8a2b-d9ad5a92e6ae"
      },
      "source": [
        "recall = [0.9678,0.9678,0.9675,0.9671,0.967,0.9676,0.9676,0.9674,0.9676,0.9678,0.9676,0.9677,0.9674,0.967,0.9673,0.9672,0.9679,0.967,0.9677,0.9675,0.9673,0.9677,0.967,0.967,0.968,0.968,0.9679,0.9672,0.9678,0.9677]\n",
        "\n",
        "w, p = wilcoxon(recall)\n",
        "\n",
        "w, p"
      ],
      "execution_count": 6,
      "outputs": [
        {
          "output_type": "execute_result",
          "data": {
            "text/plain": [
              "(0.0, 1.6741785256701665e-06)"
            ]
          },
          "metadata": {
            "tags": []
          },
          "execution_count": 6
        }
      ]
    },
    {
      "cell_type": "code",
      "metadata": {
        "id": "ddjI1zqbf3AQ",
        "colab_type": "code",
        "colab": {
          "base_uri": "https://localhost:8080/",
          "height": 34
        },
        "outputId": "e419f31c-ab2d-47fc-fb2e-98a84cd274ef"
      },
      "source": [
        "precision_score = [0.968,0.9677,0.9679,0.9674,0.9675,0.968,0.9676,0.967,0.9677,0.9679,0.9677,0.9676,0.9672,0.9672,0.9678,0.9679,0.9678,0.9679,0.9671,0.9675,0.968,0.968,0.9674,0.9675,0.9675,0.9674,0.9677,0.9671,0.9675,0.9671]\n",
        "\n",
        "w, p = wilcoxon(precision_score)\n",
        "\n",
        "w, p"
      ],
      "execution_count": 7,
      "outputs": [
        {
          "output_type": "execute_result",
          "data": {
            "text/plain": [
              "(0.0, 1.6688878538480105e-06)"
            ]
          },
          "metadata": {
            "tags": []
          },
          "execution_count": 7
        }
      ]
    },
    {
      "cell_type": "code",
      "metadata": {
        "id": "tvIMd6EFgAzV",
        "colab_type": "code",
        "colab": {
          "base_uri": "https://localhost:8080/",
          "height": 34
        },
        "outputId": "78fb09b4-faca-48e7-c6e6-65e4436008ce"
      },
      "source": [
        "f1_score = [0.9677,0.9678,0.9676,0.9676,0.9676,0.9673,0.9679,0.9675,0.9679,0.967,0.9678,0.9671,0.9676,0.9679,0.967,0.9676,0.9677,0.9671,0.9677,0.9675,0.9678,0.9674,0.967,0.9676,0.9677,0.9674,0.9673,0.9677,0.9672,0.9677]\n",
        "\n",
        "w, p = wilcoxon(precision_score)\n",
        "\n",
        "w, p"
      ],
      "execution_count": 8,
      "outputs": [
        {
          "output_type": "execute_result",
          "data": {
            "text/plain": [
              "(0.0, 1.6688878538480105e-06)"
            ]
          },
          "metadata": {
            "tags": []
          },
          "execution_count": 8
        }
      ]
    }
  ]
}